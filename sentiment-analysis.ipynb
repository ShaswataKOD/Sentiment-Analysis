{
 "cells": [
  {
   "cell_type": "code",
   "execution_count": 1,
   "metadata": {
    "_cell_guid": "b1076dfc-b9ad-4769-8c92-a6c4dae69d19",
    "_uuid": "8f2839f25d086af736a60e9eeb907d3b93b6e0e5",
    "execution": {
     "iopub.execute_input": "2024-08-24T16:30:57.498046Z",
     "iopub.status.busy": "2024-08-24T16:30:57.497594Z",
     "iopub.status.idle": "2024-08-24T16:30:57.506888Z",
     "shell.execute_reply": "2024-08-24T16:30:57.505591Z",
     "shell.execute_reply.started": "2024-08-24T16:30:57.498006Z"
    },
    "trusted": true
   },
   "outputs": [],
   "source": [
    "# This Python 3 environment comes with many helpful analytics libraries installed\n",
    "# It is defined by the kaggle/python Docker image: https://github.com/kaggle/docker-python\n",
    "# For example, here's several helpful packages to load\n",
    "\n",
    "import numpy as np # linear algebra\n",
    "import pandas as pd # data processing, CSV file I/O (e.g. pd.read_csv)\n",
    "\n",
    "# Input data files are available in the read-only \"../input/\" directory\n",
    "# For example, running this (by clicking run or pressing Shift+Enter) will list all files under the input directory\n",
    "\n",
    "import os\n",
    "for dirname, _, filenames in os.walk('/kaggle/input'):\n",
    "    for filename in filenames:\n",
    "        print(os.path.join(dirname, filename))\n",
    "\n",
    "# You can write up to 20GB to the current directory (/kaggle/working/) that gets preserved as output when you create a version using \"Save & Run All\" \n",
    "# You can also write temporary files to /kaggle/temp/, but they won't be saved outside of the current session"
   ]
  },
  {
   "cell_type": "code",
   "execution_count": 2,
   "metadata": {
    "execution": {
     "iopub.execute_input": "2024-08-24T16:30:57.521947Z",
     "iopub.status.busy": "2024-08-24T16:30:57.521602Z",
     "iopub.status.idle": "2024-08-24T16:31:01.423745Z",
     "shell.execute_reply": "2024-08-24T16:31:01.422698Z",
     "shell.execute_reply.started": "2024-08-24T16:30:57.521887Z"
    },
    "trusted": true
   },
   "outputs": [
    {
     "ename": "FileNotFoundError",
     "evalue": "[Errno 2] No such file or directory: '/kaggle/input/sentiment140/training.1600000.processed.noemoticon.csv'",
     "output_type": "error",
     "traceback": [
      "\u001b[1;31m---------------------------------------------------------------------------\u001b[0m",
      "\u001b[1;31mFileNotFoundError\u001b[0m                         Traceback (most recent call last)",
      "Cell \u001b[1;32mIn[2], line 1\u001b[0m\n\u001b[1;32m----> 1\u001b[0m old_df \u001b[38;5;241m=\u001b[39m pd\u001b[38;5;241m.\u001b[39mread_csv(\u001b[38;5;124m\"\u001b[39m\u001b[38;5;124m/kaggle/input/sentiment140/training.1600000.processed.noemoticon.csv\u001b[39m\u001b[38;5;124m\"\u001b[39m, encoding \u001b[38;5;241m=\u001b[39m \u001b[38;5;124m'\u001b[39m\u001b[38;5;124mlatin1\u001b[39m\u001b[38;5;124m'\u001b[39m)\n",
      "File \u001b[1;32mc:\\Users\\91833\\New folder\\Lib\\site-packages\\pandas\\util\\_decorators.py:211\u001b[0m, in \u001b[0;36mdeprecate_kwarg.<locals>._deprecate_kwarg.<locals>.wrapper\u001b[1;34m(*args, **kwargs)\u001b[0m\n\u001b[0;32m    209\u001b[0m     \u001b[38;5;28;01melse\u001b[39;00m:\n\u001b[0;32m    210\u001b[0m         kwargs[new_arg_name] \u001b[38;5;241m=\u001b[39m new_arg_value\n\u001b[1;32m--> 211\u001b[0m \u001b[38;5;28;01mreturn\u001b[39;00m func(\u001b[38;5;241m*\u001b[39margs, \u001b[38;5;241m*\u001b[39m\u001b[38;5;241m*\u001b[39mkwargs)\n",
      "File \u001b[1;32mc:\\Users\\91833\\New folder\\Lib\\site-packages\\pandas\\util\\_decorators.py:331\u001b[0m, in \u001b[0;36mdeprecate_nonkeyword_arguments.<locals>.decorate.<locals>.wrapper\u001b[1;34m(*args, **kwargs)\u001b[0m\n\u001b[0;32m    325\u001b[0m \u001b[38;5;28;01mif\u001b[39;00m \u001b[38;5;28mlen\u001b[39m(args) \u001b[38;5;241m>\u001b[39m num_allow_args:\n\u001b[0;32m    326\u001b[0m     warnings\u001b[38;5;241m.\u001b[39mwarn(\n\u001b[0;32m    327\u001b[0m         msg\u001b[38;5;241m.\u001b[39mformat(arguments\u001b[38;5;241m=\u001b[39m_format_argument_list(allow_args)),\n\u001b[0;32m    328\u001b[0m         \u001b[38;5;167;01mFutureWarning\u001b[39;00m,\n\u001b[0;32m    329\u001b[0m         stacklevel\u001b[38;5;241m=\u001b[39mfind_stack_level(),\n\u001b[0;32m    330\u001b[0m     )\n\u001b[1;32m--> 331\u001b[0m \u001b[38;5;28;01mreturn\u001b[39;00m func(\u001b[38;5;241m*\u001b[39margs, \u001b[38;5;241m*\u001b[39m\u001b[38;5;241m*\u001b[39mkwargs)\n",
      "File \u001b[1;32mc:\\Users\\91833\\New folder\\Lib\\site-packages\\pandas\\io\\parsers\\readers.py:950\u001b[0m, in \u001b[0;36mread_csv\u001b[1;34m(filepath_or_buffer, sep, delimiter, header, names, index_col, usecols, squeeze, prefix, mangle_dupe_cols, dtype, engine, converters, true_values, false_values, skipinitialspace, skiprows, skipfooter, nrows, na_values, keep_default_na, na_filter, verbose, skip_blank_lines, parse_dates, infer_datetime_format, keep_date_col, date_parser, dayfirst, cache_dates, iterator, chunksize, compression, thousands, decimal, lineterminator, quotechar, quoting, doublequote, escapechar, comment, encoding, encoding_errors, dialect, error_bad_lines, warn_bad_lines, on_bad_lines, delim_whitespace, low_memory, memory_map, float_precision, storage_options)\u001b[0m\n\u001b[0;32m    935\u001b[0m kwds_defaults \u001b[38;5;241m=\u001b[39m _refine_defaults_read(\n\u001b[0;32m    936\u001b[0m     dialect,\n\u001b[0;32m    937\u001b[0m     delimiter,\n\u001b[1;32m   (...)\u001b[0m\n\u001b[0;32m    946\u001b[0m     defaults\u001b[38;5;241m=\u001b[39m{\u001b[38;5;124m\"\u001b[39m\u001b[38;5;124mdelimiter\u001b[39m\u001b[38;5;124m\"\u001b[39m: \u001b[38;5;124m\"\u001b[39m\u001b[38;5;124m,\u001b[39m\u001b[38;5;124m\"\u001b[39m},\n\u001b[0;32m    947\u001b[0m )\n\u001b[0;32m    948\u001b[0m kwds\u001b[38;5;241m.\u001b[39mupdate(kwds_defaults)\n\u001b[1;32m--> 950\u001b[0m \u001b[38;5;28;01mreturn\u001b[39;00m _read(filepath_or_buffer, kwds)\n",
      "File \u001b[1;32mc:\\Users\\91833\\New folder\\Lib\\site-packages\\pandas\\io\\parsers\\readers.py:605\u001b[0m, in \u001b[0;36m_read\u001b[1;34m(filepath_or_buffer, kwds)\u001b[0m\n\u001b[0;32m    602\u001b[0m _validate_names(kwds\u001b[38;5;241m.\u001b[39mget(\u001b[38;5;124m\"\u001b[39m\u001b[38;5;124mnames\u001b[39m\u001b[38;5;124m\"\u001b[39m, \u001b[38;5;28;01mNone\u001b[39;00m))\n\u001b[0;32m    604\u001b[0m \u001b[38;5;66;03m# Create the parser.\u001b[39;00m\n\u001b[1;32m--> 605\u001b[0m parser \u001b[38;5;241m=\u001b[39m TextFileReader(filepath_or_buffer, \u001b[38;5;241m*\u001b[39m\u001b[38;5;241m*\u001b[39mkwds)\n\u001b[0;32m    607\u001b[0m \u001b[38;5;28;01mif\u001b[39;00m chunksize \u001b[38;5;129;01mor\u001b[39;00m iterator:\n\u001b[0;32m    608\u001b[0m     \u001b[38;5;28;01mreturn\u001b[39;00m parser\n",
      "File \u001b[1;32mc:\\Users\\91833\\New folder\\Lib\\site-packages\\pandas\\io\\parsers\\readers.py:1442\u001b[0m, in \u001b[0;36mTextFileReader.__init__\u001b[1;34m(self, f, engine, **kwds)\u001b[0m\n\u001b[0;32m   1439\u001b[0m     \u001b[38;5;28mself\u001b[39m\u001b[38;5;241m.\u001b[39moptions[\u001b[38;5;124m\"\u001b[39m\u001b[38;5;124mhas_index_names\u001b[39m\u001b[38;5;124m\"\u001b[39m] \u001b[38;5;241m=\u001b[39m kwds[\u001b[38;5;124m\"\u001b[39m\u001b[38;5;124mhas_index_names\u001b[39m\u001b[38;5;124m\"\u001b[39m]\n\u001b[0;32m   1441\u001b[0m \u001b[38;5;28mself\u001b[39m\u001b[38;5;241m.\u001b[39mhandles: IOHandles \u001b[38;5;241m|\u001b[39m \u001b[38;5;28;01mNone\u001b[39;00m \u001b[38;5;241m=\u001b[39m \u001b[38;5;28;01mNone\u001b[39;00m\n\u001b[1;32m-> 1442\u001b[0m \u001b[38;5;28mself\u001b[39m\u001b[38;5;241m.\u001b[39m_engine \u001b[38;5;241m=\u001b[39m \u001b[38;5;28mself\u001b[39m\u001b[38;5;241m.\u001b[39m_make_engine(f, \u001b[38;5;28mself\u001b[39m\u001b[38;5;241m.\u001b[39mengine)\n",
      "File \u001b[1;32mc:\\Users\\91833\\New folder\\Lib\\site-packages\\pandas\\io\\parsers\\readers.py:1735\u001b[0m, in \u001b[0;36mTextFileReader._make_engine\u001b[1;34m(self, f, engine)\u001b[0m\n\u001b[0;32m   1733\u001b[0m     \u001b[38;5;28;01mif\u001b[39;00m \u001b[38;5;124m\"\u001b[39m\u001b[38;5;124mb\u001b[39m\u001b[38;5;124m\"\u001b[39m \u001b[38;5;129;01mnot\u001b[39;00m \u001b[38;5;129;01min\u001b[39;00m mode:\n\u001b[0;32m   1734\u001b[0m         mode \u001b[38;5;241m+\u001b[39m\u001b[38;5;241m=\u001b[39m \u001b[38;5;124m\"\u001b[39m\u001b[38;5;124mb\u001b[39m\u001b[38;5;124m\"\u001b[39m\n\u001b[1;32m-> 1735\u001b[0m \u001b[38;5;28mself\u001b[39m\u001b[38;5;241m.\u001b[39mhandles \u001b[38;5;241m=\u001b[39m get_handle(\n\u001b[0;32m   1736\u001b[0m     f,\n\u001b[0;32m   1737\u001b[0m     mode,\n\u001b[0;32m   1738\u001b[0m     encoding\u001b[38;5;241m=\u001b[39m\u001b[38;5;28mself\u001b[39m\u001b[38;5;241m.\u001b[39moptions\u001b[38;5;241m.\u001b[39mget(\u001b[38;5;124m\"\u001b[39m\u001b[38;5;124mencoding\u001b[39m\u001b[38;5;124m\"\u001b[39m, \u001b[38;5;28;01mNone\u001b[39;00m),\n\u001b[0;32m   1739\u001b[0m     compression\u001b[38;5;241m=\u001b[39m\u001b[38;5;28mself\u001b[39m\u001b[38;5;241m.\u001b[39moptions\u001b[38;5;241m.\u001b[39mget(\u001b[38;5;124m\"\u001b[39m\u001b[38;5;124mcompression\u001b[39m\u001b[38;5;124m\"\u001b[39m, \u001b[38;5;28;01mNone\u001b[39;00m),\n\u001b[0;32m   1740\u001b[0m     memory_map\u001b[38;5;241m=\u001b[39m\u001b[38;5;28mself\u001b[39m\u001b[38;5;241m.\u001b[39moptions\u001b[38;5;241m.\u001b[39mget(\u001b[38;5;124m\"\u001b[39m\u001b[38;5;124mmemory_map\u001b[39m\u001b[38;5;124m\"\u001b[39m, \u001b[38;5;28;01mFalse\u001b[39;00m),\n\u001b[0;32m   1741\u001b[0m     is_text\u001b[38;5;241m=\u001b[39mis_text,\n\u001b[0;32m   1742\u001b[0m     errors\u001b[38;5;241m=\u001b[39m\u001b[38;5;28mself\u001b[39m\u001b[38;5;241m.\u001b[39moptions\u001b[38;5;241m.\u001b[39mget(\u001b[38;5;124m\"\u001b[39m\u001b[38;5;124mencoding_errors\u001b[39m\u001b[38;5;124m\"\u001b[39m, \u001b[38;5;124m\"\u001b[39m\u001b[38;5;124mstrict\u001b[39m\u001b[38;5;124m\"\u001b[39m),\n\u001b[0;32m   1743\u001b[0m     storage_options\u001b[38;5;241m=\u001b[39m\u001b[38;5;28mself\u001b[39m\u001b[38;5;241m.\u001b[39moptions\u001b[38;5;241m.\u001b[39mget(\u001b[38;5;124m\"\u001b[39m\u001b[38;5;124mstorage_options\u001b[39m\u001b[38;5;124m\"\u001b[39m, \u001b[38;5;28;01mNone\u001b[39;00m),\n\u001b[0;32m   1744\u001b[0m )\n\u001b[0;32m   1745\u001b[0m \u001b[38;5;28;01massert\u001b[39;00m \u001b[38;5;28mself\u001b[39m\u001b[38;5;241m.\u001b[39mhandles \u001b[38;5;129;01mis\u001b[39;00m \u001b[38;5;129;01mnot\u001b[39;00m \u001b[38;5;28;01mNone\u001b[39;00m\n\u001b[0;32m   1746\u001b[0m f \u001b[38;5;241m=\u001b[39m \u001b[38;5;28mself\u001b[39m\u001b[38;5;241m.\u001b[39mhandles\u001b[38;5;241m.\u001b[39mhandle\n",
      "File \u001b[1;32mc:\\Users\\91833\\New folder\\Lib\\site-packages\\pandas\\io\\common.py:856\u001b[0m, in \u001b[0;36mget_handle\u001b[1;34m(path_or_buf, mode, encoding, compression, memory_map, is_text, errors, storage_options)\u001b[0m\n\u001b[0;32m    851\u001b[0m \u001b[38;5;28;01melif\u001b[39;00m \u001b[38;5;28misinstance\u001b[39m(handle, \u001b[38;5;28mstr\u001b[39m):\n\u001b[0;32m    852\u001b[0m     \u001b[38;5;66;03m# Check whether the filename is to be opened in binary mode.\u001b[39;00m\n\u001b[0;32m    853\u001b[0m     \u001b[38;5;66;03m# Binary mode does not support 'encoding' and 'newline'.\u001b[39;00m\n\u001b[0;32m    854\u001b[0m     \u001b[38;5;28;01mif\u001b[39;00m ioargs\u001b[38;5;241m.\u001b[39mencoding \u001b[38;5;129;01mand\u001b[39;00m \u001b[38;5;124m\"\u001b[39m\u001b[38;5;124mb\u001b[39m\u001b[38;5;124m\"\u001b[39m \u001b[38;5;129;01mnot\u001b[39;00m \u001b[38;5;129;01min\u001b[39;00m ioargs\u001b[38;5;241m.\u001b[39mmode:\n\u001b[0;32m    855\u001b[0m         \u001b[38;5;66;03m# Encoding\u001b[39;00m\n\u001b[1;32m--> 856\u001b[0m         handle \u001b[38;5;241m=\u001b[39m \u001b[38;5;28mopen\u001b[39m(\n\u001b[0;32m    857\u001b[0m             handle,\n\u001b[0;32m    858\u001b[0m             ioargs\u001b[38;5;241m.\u001b[39mmode,\n\u001b[0;32m    859\u001b[0m             encoding\u001b[38;5;241m=\u001b[39mioargs\u001b[38;5;241m.\u001b[39mencoding,\n\u001b[0;32m    860\u001b[0m             errors\u001b[38;5;241m=\u001b[39merrors,\n\u001b[0;32m    861\u001b[0m             newline\u001b[38;5;241m=\u001b[39m\u001b[38;5;124m\"\u001b[39m\u001b[38;5;124m\"\u001b[39m,\n\u001b[0;32m    862\u001b[0m         )\n\u001b[0;32m    863\u001b[0m     \u001b[38;5;28;01melse\u001b[39;00m:\n\u001b[0;32m    864\u001b[0m         \u001b[38;5;66;03m# Binary mode\u001b[39;00m\n\u001b[0;32m    865\u001b[0m         handle \u001b[38;5;241m=\u001b[39m \u001b[38;5;28mopen\u001b[39m(handle, ioargs\u001b[38;5;241m.\u001b[39mmode)\n",
      "\u001b[1;31mFileNotFoundError\u001b[0m: [Errno 2] No such file or directory: '/kaggle/input/sentiment140/training.1600000.processed.noemoticon.csv'"
     ]
    }
   ],
   "source": [
    "old_df = pd.read_csv(\"/kaggle/input/sentiment140/training.1600000.processed.noemoticon.csv\", encoding = 'latin1')"
   ]
  },
  {
   "cell_type": "code",
   "execution_count": null,
   "metadata": {
    "execution": {
     "iopub.execute_input": "2024-08-24T16:31:01.426151Z",
     "iopub.status.busy": "2024-08-24T16:31:01.425746Z",
     "iopub.status.idle": "2024-08-24T16:31:02.557521Z",
     "shell.execute_reply": "2024-08-24T16:31:02.556703Z",
     "shell.execute_reply.started": "2024-08-24T16:31:01.426107Z"
    },
    "trusted": true
   },
   "outputs": [],
   "source": [
    "from sklearn.model_selection import train_test_split\n",
    "\n",
    "# Assume 'sentiment' is the column with sentiment labels\n",
    "X = old_df.drop('0', axis=1)  # Features\n",
    "y = old_df['0']  # Sentiment labels\n",
    "\n",
    "# Perform stratified sampling\n",
    "X_sample, X_unused, y_sample, y_unused = train_test_split(\n",
    "    X, y,\n",
    "    test_size=0.50,  # Take 25% of the data\n",
    "    stratify=y,  # Ensure the same class distribution\n",
    "    random_state=42  # For reproducibility\n",
    ")\n",
    "\n",
    "# Combine back into a DataFrame\n",
    "df_sampled = pd.concat([X_sample, y_sample], axis=1)\n"
   ]
  },
  {
   "cell_type": "code",
   "execution_count": null,
   "metadata": {
    "execution": {
     "iopub.execute_input": "2024-08-24T16:31:02.558925Z",
     "iopub.status.busy": "2024-08-24T16:31:02.558634Z",
     "iopub.status.idle": "2024-08-24T16:31:02.793096Z",
     "shell.execute_reply": "2024-08-24T16:31:02.792162Z",
     "shell.execute_reply.started": "2024-08-24T16:31:02.558879Z"
    },
    "trusted": true
   },
   "outputs": [
    {
     "data": {
      "text/plain": [
       "<Axes: xlabel='0'>"
      ]
     },
     "execution_count": 35,
     "metadata": {},
     "output_type": "execute_result"
    },
    {
     "data": {
      "image/png": "[encoded data removed]",
      "text/plain": [
       "<Figure size 640x480 with 1 Axes>"
      ]
     },
     "metadata": {},
     "output_type": "display_data"
    }
   ],
   "source": [
    "df_sampled['0'].value_counts().plot(kind = 'bar')"
   ]
  },
  {
   "cell_type": "code",
   "execution_count": null,
   "metadata": {
    "execution": {
     "iopub.execute_input": "2024-08-24T16:31:02.796682Z",
     "iopub.status.busy": "2024-08-24T16:31:02.795713Z",
     "iopub.status.idle": "2024-08-24T16:31:02.802777Z",
     "shell.execute_reply": "2024-08-24T16:31:02.801911Z",
     "shell.execute_reply.started": "2024-08-24T16:31:02.796635Z"
    },
    "trusted": true
   },
   "outputs": [
    {
     "data": {
      "text/plain": [
       "49.99996874998047"
      ]
     },
     "execution_count": 36,
     "metadata": {},
     "output_type": "execute_result"
    }
   ],
   "source": [
    "df_sampled.shape[0]/old_df.shape[0]*100"
   ]
  },
  {
   "cell_type": "code",
   "execution_count": null,
   "metadata": {
    "execution": {
     "iopub.execute_input": "2024-08-24T16:31:31.322366Z",
     "iopub.status.busy": "2024-08-24T16:31:31.321963Z",
     "iopub.status.idle": "2024-08-24T16:31:31.328910Z",
     "shell.execute_reply": "2024-08-24T16:31:31.327889Z",
     "shell.execute_reply.started": "2024-08-24T16:31:31.322332Z"
    },
    "trusted": true
   },
   "outputs": [],
   "source": [
    "renamed_columns = {}\n",
    "for col in df_sampled.columns:\n",
    "    if '@switchfoot' in col:\n",
    "        renamed_columns[col] = 'text'\n",
    "    elif 'TheSpecialOne' in col:\n",
    "        renamed_columns[col] = 'users'\n",
    "    elif '1467810369' in col:\n",
    "        renamed_columns[col] = 'user_ID'\n",
    "    else:\n",
    "        renamed_columns[col] = col  \n",
    "\n",
    "# Now apply the renaming using the dictionary\n",
    "df_sampled.rename(columns=renamed_columns, inplace=True)\n"
   ]
  },
  {
   "cell_type": "code",
   "execution_count": null,
   "metadata": {
    "execution": {
     "iopub.execute_input": "2024-08-24T16:31:33.651639Z",
     "iopub.status.busy": "2024-08-24T16:31:33.651236Z",
     "iopub.status.idle": "2024-08-24T16:31:33.754692Z",
     "shell.execute_reply": "2024-08-24T16:31:33.753665Z",
     "shell.execute_reply.started": "2024-08-24T16:31:33.651600Z"
    },
    "trusted": true
   },
   "outputs": [],
   "source": [
    "\n",
    "df_sampled.drop(columns = ['user_ID','users','NO_QUERY','Mon Apr 06 22:19:45 PDT 2009'],inplace = True)"
   ]
  },
  {
   "cell_type": "code",
   "execution_count": null,
   "metadata": {
    "execution": {
     "iopub.execute_input": "2024-08-24T16:31:36.380763Z",
     "iopub.status.busy": "2024-08-24T16:31:36.380361Z",
     "iopub.status.idle": "2024-08-24T16:31:36.387158Z",
     "shell.execute_reply": "2024-08-24T16:31:36.386198Z",
     "shell.execute_reply.started": "2024-08-24T16:31:36.380725Z"
    },
    "trusted": true
   },
   "outputs": [
    {
     "data": {
      "text/plain": [
       "Index(['text', '0'], dtype='object')"
      ]
     },
     "execution_count": 41,
     "metadata": {},
     "output_type": "execute_result"
    }
   ],
   "source": [
    "df_sampled.columns"
   ]
  },
  {
   "cell_type": "code",
   "execution_count": null,
   "metadata": {
    "execution": {
     "iopub.execute_input": "2024-08-24T16:31:44.095458Z",
     "iopub.status.busy": "2024-08-24T16:31:44.094695Z",
     "iopub.status.idle": "2024-08-24T16:31:44.100632Z",
     "shell.execute_reply": "2024-08-24T16:31:44.099701Z",
     "shell.execute_reply.started": "2024-08-24T16:31:44.095419Z"
    },
    "trusted": true
   },
   "outputs": [],
   "source": [
    "renamed_columns = {}\n",
    "for col in df_sampled.columns:\n",
    "    if '0' in col:\n",
    "        renamed_columns[col] = 'classes'\n",
    "df.rename(columns = renamed_columns, inplace = True)\n"
   ]
  },
  {
   "cell_type": "code",
   "execution_count": null,
   "metadata": {
    "execution": {
     "iopub.execute_input": "2024-08-24T16:31:46.192569Z",
     "iopub.status.busy": "2024-08-24T16:31:46.192174Z",
     "iopub.status.idle": "2024-08-24T16:31:46.198323Z",
     "shell.execute_reply": "2024-08-24T16:31:46.197479Z",
     "shell.execute_reply.started": "2024-08-24T16:31:46.192533Z"
    },
    "trusted": true
   },
   "outputs": [
    {
     "data": {
      "text/plain": [
       "(799999, 2)"
      ]
     },
     "execution_count": 44,
     "metadata": {},
     "output_type": "execute_result"
    }
   ],
   "source": [
    "df_sampled.shape"
   ]
  },
  {
   "cell_type": "code",
   "execution_count": null,
   "metadata": {
    "execution": {
     "iopub.execute_input": "2024-08-24T16:31:48.914773Z",
     "iopub.status.busy": "2024-08-24T16:31:48.913945Z",
     "iopub.status.idle": "2024-08-24T16:31:55.039160Z",
     "shell.execute_reply": "2024-08-24T16:31:55.038337Z",
     "shell.execute_reply.started": "2024-08-24T16:31:48.914736Z"
    },
    "trusted": true
   },
   "outputs": [],
   "source": [
    "## text preprocessing\n",
    "import pandas as pd\n",
    "\n",
    "# Remove HTML tags\n",
    "df_sampled['cleaned_text'] = df_sampled['text'].str.replace(r'<.*?>', '', regex=True)\n",
    "# Remove URLs\n",
    "df_sampled['cleaned_text'] = df_sampled['cleaned_text'].str.replace(r'http\\S+|www\\S+|https\\S+', '', regex=True)\n",
    "# Remove special character_sans\n",
    "df_sampled['cleaned_text'] = df_sampled['cleaned_text'].str.replace(r'[^A-Za-z0-9\\s]', '', regex=True)\n"
   ]
  },
  {
   "cell_type": "code",
   "execution_count": null,
   "metadata": {
    "execution": {
     "iopub.execute_input": "2024-08-24T16:31:57.992439Z",
     "iopub.status.busy": "2024-08-24T16:31:57.992068Z",
     "iopub.status.idle": "2024-08-24T16:31:58.023152Z",
     "shell.execute_reply": "2024-08-24T16:31:58.022286Z",
     "shell.execute_reply.started": "2024-08-24T16:31:57.992405Z"
    },
    "trusted": true
   },
   "outputs": [
    {
     "data": {
      "text/plain": [
       "'is upset that he cant update his Facebook by texting it and might cry as a result  School today also Blah'"
      ]
     },
     "execution_count": 46,
     "metadata": {},
     "output_type": "execute_result"
    }
   ],
   "source": [
    "df_sampled['cleaned_text'][0] #cleaned text"
   ]
  },
  {
   "cell_type": "code",
   "execution_count": null,
   "metadata": {
    "execution": {
     "iopub.execute_input": "2024-08-24T16:32:00.292235Z",
     "iopub.status.busy": "2024-08-24T16:32:00.291804Z",
     "iopub.status.idle": "2024-08-24T16:32:00.602081Z",
     "shell.execute_reply": "2024-08-24T16:32:00.601101Z",
     "shell.execute_reply.started": "2024-08-24T16:32:00.292197Z"
    },
    "trusted": true
   },
   "outputs": [
    {
     "data": {
      "text/plain": [
       "1448019    check this out matt nathanson  come on get hig...\n",
       "214516                   argh bubbletea wait  forever today \n",
       "813891              solorunner thank you have a safe flight \n",
       "387550     andrewdotnich ah yes he mentioned he might be ...\n",
       "391246     horrible flight kid kicking my seat for 6 hour...\n",
       "                                 ...                        \n",
       "1484735     mcdonoughab you and jrball05 live at that place \n",
       "935861     credit unions ftw cashed my cheque in straight...\n",
       "1163347    rkartha agree but then again back to my question \n",
       "838270     just turned from the foolery known as for the ...\n",
       "396934     new blog post why isnt it working for me   min...\n",
       "Name: cleaned_text, Length: 799999, dtype: object"
      ]
     },
     "execution_count": 47,
     "metadata": {},
     "output_type": "execute_result"
    }
   ],
   "source": [
    "#lowercasing the data\n",
    "df_sampled['cleaned_text'] = df_sampled['cleaned_text'].str.lower()\n",
    "df_sampled['cleaned_text']"
   ]
  },
  {
   "cell_type": "code",
   "execution_count": null,
   "metadata": {
    "execution": {
     "iopub.execute_input": "2024-08-24T16:32:03.328935Z",
     "iopub.status.busy": "2024-08-24T16:32:03.328219Z",
     "iopub.status.idle": "2024-08-24T16:32:06.272425Z",
     "shell.execute_reply": "2024-08-24T16:32:06.271523Z",
     "shell.execute_reply.started": "2024-08-24T16:32:03.328888Z"
    },
    "trusted": true
   },
   "outputs": [
    {
     "name": "stdout",
     "output_type": "stream",
     "text": [
      "[nltk_data] Downloading package stopwords to /usr/share/nltk_data...\n",
      "[nltk_data]   Package stopwords is already up-to-date!\n"
     ]
    }
   ],
   "source": [
    "##removing the stopwords using NLTK\n",
    "import nltk\n",
    "from nltk.corpus import stopwords\n",
    "\n",
    "nltk.download('stopwords')\n",
    "stop_words = set(stopwords.words('english'))\n",
    "\n",
    "# Function to remove stopwords\n",
    "def remove_stopwords(text):\n",
    "    return ' '.join(word for word in text.split() if word not in stop_words)\n",
    "\n",
    "# Apply the function in a vectorized manner\n",
    "df_sampled['cleaned_text'] = df_sampled['cleaned_text'].apply(remove_stopwords)\n"
   ]
  },
  {
   "cell_type": "code",
   "execution_count": null,
   "metadata": {
    "execution": {
     "iopub.execute_input": "2024-08-24T16:32:28.525393Z",
     "iopub.status.busy": "2024-08-24T16:32:28.524576Z",
     "iopub.status.idle": "2024-08-24T16:32:28.536578Z",
     "shell.execute_reply": "2024-08-24T16:32:28.535716Z",
     "shell.execute_reply.started": "2024-08-24T16:32:28.525353Z"
    },
    "trusted": true
   },
   "outputs": [
    {
     "data": {
      "text/html": [
       "<div>\n",
       "<style scoped>\n",
       "    .dataframe tbody tr th:only-of-type {\n",
       "        vertical-align: middle;\n",
       "    }\n",
       "\n",
       "    .dataframe tbody tr th {\n",
       "        vertical-align: top;\n",
       "    }\n",
       "\n",
       "    .dataframe thead th {\n",
       "        text-align: right;\n",
       "    }\n",
       "</style>\n",
       "<table border=\"1\" class=\"dataframe\">\n",
       "  <thead>\n",
       "    <tr style=\"text-align: right;\">\n",
       "      <th></th>\n",
       "      <th>text</th>\n",
       "      <th>0</th>\n",
       "      <th>cleaned_text</th>\n",
       "    </tr>\n",
       "  </thead>\n",
       "  <tbody>\n",
       "    <tr>\n",
       "      <th>1448019</th>\n",
       "      <td>Check this out: Matt Nathanson - Come On, Get ...</td>\n",
       "      <td>4</td>\n",
       "      <td>check matt nathanson come get higher lyrics ly...</td>\n",
       "    </tr>\n",
       "    <tr>\n",
       "      <th>214516</th>\n",
       "      <td>Argh. Bubbletea wait = forever today</td>\n",
       "      <td>0</td>\n",
       "      <td>argh bubbletea wait forever today</td>\n",
       "    </tr>\n",
       "    <tr>\n",
       "      <th>813891</th>\n",
       "      <td>@SoloRunner thank you! Have a safe flight!</td>\n",
       "      <td>4</td>\n",
       "      <td>solorunner thank safe flight</td>\n",
       "    </tr>\n",
       "    <tr>\n",
       "      <th>387550</th>\n",
       "      <td>@andrewdotnich Ah yes, he mentioned he might b...</td>\n",
       "      <td>0</td>\n",
       "      <td>andrewdotnich ah yes mentioned might required ...</td>\n",
       "    </tr>\n",
       "    <tr>\n",
       "      <th>391246</th>\n",
       "      <td>Horrible flight. Kid kicking my seat for 6 hou...</td>\n",
       "      <td>0</td>\n",
       "      <td>horrible flight kid kicking seat 6 hours red e...</td>\n",
       "    </tr>\n",
       "    <tr>\n",
       "      <th>...</th>\n",
       "      <td>...</td>\n",
       "      <td>...</td>\n",
       "      <td>...</td>\n",
       "    </tr>\n",
       "    <tr>\n",
       "      <th>1484735</th>\n",
       "      <td>@mcdonoughab you and @jrball05 live at that pl...</td>\n",
       "      <td>4</td>\n",
       "      <td>mcdonoughab jrball05 live place</td>\n",
       "    </tr>\n",
       "    <tr>\n",
       "      <th>935861</th>\n",
       "      <td>Credit Unions FTW. Cashed my cheque in straigh...</td>\n",
       "      <td>4</td>\n",
       "      <td>credit unions ftw cashed cheque straight away</td>\n",
       "    </tr>\n",
       "    <tr>\n",
       "      <th>1163347</th>\n",
       "      <td>@rkartha Agree. But then again, back to my que...</td>\n",
       "      <td>4</td>\n",
       "      <td>rkartha agree back question</td>\n",
       "    </tr>\n",
       "    <tr>\n",
       "      <th>838270</th>\n",
       "      <td>just turned from the foolery known as For the ...</td>\n",
       "      <td>4</td>\n",
       "      <td>turned foolery known love ray j black beautifu...</td>\n",
       "    </tr>\n",
       "    <tr>\n",
       "      <th>396934</th>\n",
       "      <td>New blog post: Why isn't it working for me?  -...</td>\n",
       "      <td>0</td>\n",
       "      <td>new blog post isnt working miniminscom weight ...</td>\n",
       "    </tr>\n",
       "  </tbody>\n",
       "</table>\n",
       "<p>799999 rows × 3 columns</p>\n",
       "</div>"
      ],
      "text/plain": [
       "                                                      text  0  \\\n",
       "1448019  Check this out: Matt Nathanson - Come On, Get ...  4   \n",
       "214516               Argh. Bubbletea wait = forever today   0   \n",
       "813891         @SoloRunner thank you! Have a safe flight!   4   \n",
       "387550   @andrewdotnich Ah yes, he mentioned he might b...  0   \n",
       "391246   Horrible flight. Kid kicking my seat for 6 hou...  0   \n",
       "...                                                    ... ..   \n",
       "1484735  @mcdonoughab you and @jrball05 live at that pl...  4   \n",
       "935861   Credit Unions FTW. Cashed my cheque in straigh...  4   \n",
       "1163347  @rkartha Agree. But then again, back to my que...  4   \n",
       "838270   just turned from the foolery known as For the ...  4   \n",
       "396934   New blog post: Why isn't it working for me?  -...  0   \n",
       "\n",
       "                                              cleaned_text  \n",
       "1448019  check matt nathanson come get higher lyrics ly...  \n",
       "214516                   argh bubbletea wait forever today  \n",
       "813891                        solorunner thank safe flight  \n",
       "387550   andrewdotnich ah yes mentioned might required ...  \n",
       "391246   horrible flight kid kicking seat 6 hours red e...  \n",
       "...                                                    ...  \n",
       "1484735                    mcdonoughab jrball05 live place  \n",
       "935861       credit unions ftw cashed cheque straight away  \n",
       "1163347                        rkartha agree back question  \n",
       "838270   turned foolery known love ray j black beautifu...  \n",
       "396934   new blog post isnt working miniminscom weight ...  \n",
       "\n",
       "[799999 rows x 3 columns]"
      ]
     },
     "execution_count": 49,
     "metadata": {},
     "output_type": "execute_result"
    }
   ],
   "source": [
    "df_sampled"
   ]
  },
  {
   "cell_type": "code",
   "execution_count": null,
   "metadata": {
    "execution": {
     "iopub.execute_input": "2024-08-24T16:34:57.188582Z",
     "iopub.status.busy": "2024-08-24T16:34:57.188189Z",
     "iopub.status.idle": "2024-08-24T16:34:57.853490Z",
     "shell.execute_reply": "2024-08-24T16:34:57.852660Z",
     "shell.execute_reply.started": "2024-08-24T16:34:57.188546Z"
    },
    "trusted": true
   },
   "outputs": [],
   "source": [
    "#stratified sampling\n",
    "from sklearn.model_selection import train_test_split\n",
    "\n",
    "# Assume 'sentiment' is the column with sentiment labels\n",
    "X = df_sampled.drop('0', axis=1)  # Features\n",
    "y = df_sampled['0']  # Sentiment labels\n",
    "\n",
    "# Perform stratified sampling\n",
    "X_sample, X_unused, y_sample, y_unused = train_test_split(\n",
    "    X, y,\n",
    "    test_size=0.75,  # Take 25% of the data\n",
    "    stratify=y,  # Ensure the same class distribution\n",
    "    random_state=42  # For reproducibility\n",
    ")\n",
    "\n",
    "# Combine back into a DataFrame\n",
    "new_df = pd.concat([X_sample, y_sample], axis=1)\n"
   ]
  },
  {
   "cell_type": "code",
   "execution_count": null,
   "metadata": {
    "execution": {
     "iopub.execute_input": "2024-08-24T16:35:11.028162Z",
     "iopub.status.busy": "2024-08-24T16:35:11.027399Z",
     "iopub.status.idle": "2024-08-24T16:35:11.039488Z",
     "shell.execute_reply": "2024-08-24T16:35:11.038533Z",
     "shell.execute_reply.started": "2024-08-24T16:35:11.028121Z"
    },
    "trusted": true
   },
   "outputs": [
    {
     "data": {
      "text/html": [
       "<div>\n",
       "<style scoped>\n",
       "    .dataframe tbody tr th:only-of-type {\n",
       "        vertical-align: middle;\n",
       "    }\n",
       "\n",
       "    .dataframe tbody tr th {\n",
       "        vertical-align: top;\n",
       "    }\n",
       "\n",
       "    .dataframe thead th {\n",
       "        text-align: right;\n",
       "    }\n",
       "</style>\n",
       "<table border=\"1\" class=\"dataframe\">\n",
       "  <thead>\n",
       "    <tr style=\"text-align: right;\">\n",
       "      <th></th>\n",
       "      <th>text</th>\n",
       "      <th>cleaned_text</th>\n",
       "      <th>0</th>\n",
       "    </tr>\n",
       "  </thead>\n",
       "  <tbody>\n",
       "    <tr>\n",
       "      <th>1238099</th>\n",
       "      <td>`what a tiring day..</td>\n",
       "      <td>tiring day</td>\n",
       "      <td>4</td>\n",
       "    </tr>\n",
       "    <tr>\n",
       "      <th>1026346</th>\n",
       "      <td>@aliholden he's good! wiggling all around this...</td>\n",
       "      <td>aliholden hes good wiggling around morning</td>\n",
       "      <td>4</td>\n",
       "    </tr>\n",
       "    <tr>\n",
       "      <th>171341</th>\n",
       "      <td>#thingsmummysaid...rollercoasters are only mul...</td>\n",
       "      <td>thingsmummysaidrollercoasters multistorey car ...</td>\n",
       "      <td>0</td>\n",
       "    </tr>\n",
       "    <tr>\n",
       "      <th>888304</th>\n",
       "      <td>@FlyAArmy apple is a good company, and I've re...</td>\n",
       "      <td>flyaarmy apple good company ive really never p...</td>\n",
       "      <td>4</td>\n",
       "    </tr>\n",
       "    <tr>\n",
       "      <th>497900</th>\n",
       "      <td>@Jillzarin i want one of your team jill v-neck...</td>\n",
       "      <td>jillzarin want one team jill vneck tshirts bad...</td>\n",
       "      <td>0</td>\n",
       "    </tr>\n",
       "    <tr>\n",
       "      <th>...</th>\n",
       "      <td>...</td>\n",
       "      <td>...</td>\n",
       "      <td>...</td>\n",
       "    </tr>\n",
       "    <tr>\n",
       "      <th>664855</th>\n",
       "      <td>Catastrophe-my banana just took a dump.  on th...</td>\n",
       "      <td>catastrophemy banana took dump office floormaj...</td>\n",
       "      <td>0</td>\n",
       "    </tr>\n",
       "    <tr>\n",
       "      <th>910453</th>\n",
       "      <td>And, I'm accumulating money again, so I can us...</td>\n",
       "      <td>im accumulating money use fancy finance app th...</td>\n",
       "      <td>4</td>\n",
       "    </tr>\n",
       "    <tr>\n",
       "      <th>1313277</th>\n",
       "      <td>@lilumi Ð¡ÐºÑÐ¸Ð¿ÑÑ Ñ Ð½Ð°Ñ? Ð² ÑÑÐºÐ°Ñ...</td>\n",
       "      <td>lilumi onclick onmouseover c</td>\n",
       "      <td>4</td>\n",
       "    </tr>\n",
       "    <tr>\n",
       "      <th>1279550</th>\n",
       "      <td>@nike620 Yay go you!! P.S. Catherine thought y...</td>\n",
       "      <td>nike620 yay go ps catherine thought cake today...</td>\n",
       "      <td>4</td>\n",
       "    </tr>\n",
       "    <tr>\n",
       "      <th>1079863</th>\n",
       "      <td>@wolstenclark you didn't hear!? i've decided t...</td>\n",
       "      <td>wolstenclark didnt hear ive decided hate youve...</td>\n",
       "      <td>4</td>\n",
       "    </tr>\n",
       "  </tbody>\n",
       "</table>\n",
       "<p>199999 rows × 3 columns</p>\n",
       "</div>"
      ],
      "text/plain": [
       "                                                      text  \\\n",
       "1238099                              `what a tiring day..    \n",
       "1026346  @aliholden he's good! wiggling all around this...   \n",
       "171341   #thingsmummysaid...rollercoasters are only mul...   \n",
       "888304   @FlyAArmy apple is a good company, and I've re...   \n",
       "497900   @Jillzarin i want one of your team jill v-neck...   \n",
       "...                                                    ...   \n",
       "664855   Catastrophe-my banana just took a dump.  on th...   \n",
       "910453   And, I'm accumulating money again, so I can us...   \n",
       "1313277  @lilumi Ð¡ÐºÑÐ¸Ð¿ÑÑ Ñ Ð½Ð°Ñ? Ð² ÑÑÐºÐ°Ñ\n",
       "...   \n",
       "1279550  @nike620 Yay go you!! P.S. Catherine thought y...   \n",
       "1079863  @wolstenclark you didn't hear!? i've decided t...   \n",
       "\n",
       "                                              cleaned_text  0  \n",
       "1238099                                         tiring day  4  \n",
       "1026346         aliholden hes good wiggling around morning  4  \n",
       "171341   thingsmummysaidrollercoasters multistorey car ...  0  \n",
       "888304   flyaarmy apple good company ive really never p...  4  \n",
       "497900   jillzarin want one team jill vneck tshirts bad...  0  \n",
       "...                                                    ... ..  \n",
       "664855   catastrophemy banana took dump office floormaj...  0  \n",
       "910453   im accumulating money use fancy finance app th...  4  \n",
       "1313277                       lilumi onclick onmouseover c  4  \n",
       "1279550  nike620 yay go ps catherine thought cake today...  4  \n",
       "1079863  wolstenclark didnt hear ive decided hate youve...  4  \n",
       "\n",
       "[199999 rows x 3 columns]"
      ]
     },
     "execution_count": 53,
     "metadata": {},
     "output_type": "execute_result"
    }
   ],
   "source": [
    "new_df #stratified sampling"
   ]
  },
  {
   "cell_type": "code",
   "execution_count": null,
   "metadata": {
    "execution": {
     "iopub.execute_input": "2024-08-24T16:35:45.752609Z",
     "iopub.status.busy": "2024-08-24T16:35:45.752239Z",
     "iopub.status.idle": "2024-08-24T16:37:04.199624Z",
     "shell.execute_reply": "2024-08-24T16:37:04.198645Z",
     "shell.execute_reply.started": "2024-08-24T16:35:45.752575Z"
    },
    "trusted": true
   },
   "outputs": [
    {
     "data": {
      "text/html": [
       "<div>\n",
       "<style scoped>\n",
       "    .dataframe tbody tr th:only-of-type {\n",
       "        vertical-align: middle;\n",
       "    }\n",
       "\n",
       "    .dataframe tbody tr th {\n",
       "        vertical-align: top;\n",
       "    }\n",
       "\n",
       "    .dataframe thead th {\n",
       "        text-align: right;\n",
       "    }\n",
       "</style>\n",
       "<table border=\"1\" class=\"dataframe\">\n",
       "  <thead>\n",
       "    <tr style=\"text-align: right;\">\n",
       "      <th></th>\n",
       "      <th>text</th>\n",
       "      <th>cleaned_text</th>\n",
       "      <th>0</th>\n",
       "      <th>processed_text</th>\n",
       "    </tr>\n",
       "  </thead>\n",
       "  <tbody>\n",
       "    <tr>\n",
       "      <th>1238099</th>\n",
       "      <td>`what a tiring day..</td>\n",
       "      <td>tiring day</td>\n",
       "      <td>4</td>\n",
       "      <td>[tire, day]</td>\n",
       "    </tr>\n",
       "    <tr>\n",
       "      <th>1026346</th>\n",
       "      <td>@aliholden he's good! wiggling all around this...</td>\n",
       "      <td>aliholden hes good wiggling around morning</td>\n",
       "      <td>4</td>\n",
       "      <td>[aliholden, he, good, wiggl, around, morn]</td>\n",
       "    </tr>\n",
       "    <tr>\n",
       "      <th>171341</th>\n",
       "      <td>#thingsmummysaid...rollercoasters are only mul...</td>\n",
       "      <td>thingsmummysaidrollercoasters multistorey car ...</td>\n",
       "      <td>0</td>\n",
       "      <td>[thingsmummysaidrollercoast, multistorey, car,...</td>\n",
       "    </tr>\n",
       "    <tr>\n",
       "      <th>888304</th>\n",
       "      <td>@FlyAArmy apple is a good company, and I've re...</td>\n",
       "      <td>flyaarmy apple good company ive really never p...</td>\n",
       "      <td>4</td>\n",
       "      <td>[flyaarmi, appl, good, compani, ive, realli, n...</td>\n",
       "    </tr>\n",
       "    <tr>\n",
       "      <th>497900</th>\n",
       "      <td>@Jillzarin i want one of your team jill v-neck...</td>\n",
       "      <td>jillzarin want one team jill vneck tshirts bad...</td>\n",
       "      <td>0</td>\n",
       "      <td>[jillzarin, want, one, team, jill, vneck, tshi...</td>\n",
       "    </tr>\n",
       "    <tr>\n",
       "      <th>...</th>\n",
       "      <td>...</td>\n",
       "      <td>...</td>\n",
       "      <td>...</td>\n",
       "      <td>...</td>\n",
       "    </tr>\n",
       "    <tr>\n",
       "      <th>664855</th>\n",
       "      <td>Catastrophe-my banana just took a dump.  on th...</td>\n",
       "      <td>catastrophemy banana took dump office floormaj...</td>\n",
       "      <td>0</td>\n",
       "      <td>[catastrophemi, banana, took, dump, offic, flo...</td>\n",
       "    </tr>\n",
       "    <tr>\n",
       "      <th>910453</th>\n",
       "      <td>And, I'm accumulating money again, so I can us...</td>\n",
       "      <td>im accumulating money use fancy finance app th...</td>\n",
       "      <td>4</td>\n",
       "      <td>[im, accumul, money, use, fanci, financ, app, ...</td>\n",
       "    </tr>\n",
       "    <tr>\n",
       "      <th>1313277</th>\n",
       "      <td>@lilumi Ð¡ÐºÑÐ¸Ð¿ÑÑ Ñ Ð½Ð°Ñ? Ð² ÑÑÐºÐ°Ñ...</td>\n",
       "      <td>lilumi onclick onmouseover c</td>\n",
       "      <td>4</td>\n",
       "      <td>[lilumi, onclick, onmouseov, c]</td>\n",
       "    </tr>\n",
       "    <tr>\n",
       "      <th>1279550</th>\n",
       "      <td>@nike620 Yay go you!! P.S. Catherine thought y...</td>\n",
       "      <td>nike620 yay go ps catherine thought cake today...</td>\n",
       "      <td>4</td>\n",
       "      <td>[nike620, yay, go, ps, catherin, thought, cake...</td>\n",
       "    </tr>\n",
       "    <tr>\n",
       "      <th>1079863</th>\n",
       "      <td>@wolstenclark you didn't hear!? i've decided t...</td>\n",
       "      <td>wolstenclark didnt hear ive decided hate youve...</td>\n",
       "      <td>4</td>\n",
       "      <td>[wolstenclark, didnt, hear, ive, decid, hate, ...</td>\n",
       "    </tr>\n",
       "  </tbody>\n",
       "</table>\n",
       "<p>199999 rows × 4 columns</p>\n",
       "</div>"
      ],
      "text/plain": [
       "                                                      text  \\\n",
       "1238099                              `what a tiring day..    \n",
       "1026346  @aliholden he's good! wiggling all around this...   \n",
       "171341   #thingsmummysaid...rollercoasters are only mul...   \n",
       "888304   @FlyAArmy apple is a good company, and I've re...   \n",
       "497900   @Jillzarin i want one of your team jill v-neck...   \n",
       "...                                                    ...   \n",
       "664855   Catastrophe-my banana just took a dump.  on th...   \n",
       "910453   And, I'm accumulating money again, so I can us...   \n",
       "1313277  @lilumi Ð¡ÐºÑÐ¸Ð¿ÑÑ Ñ Ð½Ð°Ñ? Ð² ÑÑÐºÐ°Ñ\n",
       "...   \n",
       "1279550  @nike620 Yay go you!! P.S. Catherine thought y...   \n",
       "1079863  @wolstenclark you didn't hear!? i've decided t...   \n",
       "\n",
       "                                              cleaned_text  0  \\\n",
       "1238099                                         tiring day  4   \n",
       "1026346         aliholden hes good wiggling around morning  4   \n",
       "171341   thingsmummysaidrollercoasters multistorey car ...  0   \n",
       "888304   flyaarmy apple good company ive really never p...  4   \n",
       "497900   jillzarin want one team jill vneck tshirts bad...  0   \n",
       "...                                                    ... ..   \n",
       "664855   catastrophemy banana took dump office floormaj...  0   \n",
       "910453   im accumulating money use fancy finance app th...  4   \n",
       "1313277                       lilumi onclick onmouseover c  4   \n",
       "1279550  nike620 yay go ps catherine thought cake today...  4   \n",
       "1079863  wolstenclark didnt hear ive decided hate youve...  4   \n",
       "\n",
       "                                            processed_text  \n",
       "1238099                                        [tire, day]  \n",
       "1026346         [aliholden, he, good, wiggl, around, morn]  \n",
       "171341   [thingsmummysaidrollercoast, multistorey, car,...  \n",
       "888304   [flyaarmi, appl, good, compani, ive, realli, n...  \n",
       "497900   [jillzarin, want, one, team, jill, vneck, tshi...  \n",
       "...                                                    ...  \n",
       "664855   [catastrophemi, banana, took, dump, offic, flo...  \n",
       "910453   [im, accumul, money, use, fanci, financ, app, ...  \n",
       "1313277                    [lilumi, onclick, onmouseov, c]  \n",
       "1279550  [nike620, yay, go, ps, catherin, thought, cake...  \n",
       "1079863  [wolstenclark, didnt, hear, ive, decid, hate, ...  \n",
       "\n",
       "[199999 rows x 4 columns]"
      ]
     },
     "execution_count": 54,
     "metadata": {},
     "output_type": "execute_result"
    }
   ],
   "source": [
    "import nltk\n",
    "from nltk.tokenize import word_tokenize\n",
    "from nltk.stem import PorterStemmer\n",
    "\n",
    "# Initialize the stemmer\n",
    "stemmer = PorterStemmer()\n",
    "\n",
    "def process_text(text):\n",
    "    # Tokenize text\n",
    "    tokens = word_tokenize(text)\n",
    "    # Stem tokens\n",
    "    stems = [stemmer.stem(token) for token in tokens]\n",
    "    return stems\n",
    "\n",
    "# Apply tokenization and stemming\n",
    "new_df['processed_text'] = new_df['cleaned_text'].apply(process_text)\n",
    "\n",
    "new_df\n"
   ]
  },
  {
   "cell_type": "code",
   "execution_count": null,
   "metadata": {
    "execution": {
     "iopub.execute_input": "2024-08-24T16:44:00.728970Z",
     "iopub.status.busy": "2024-08-24T16:44:00.728061Z",
     "iopub.status.idle": "2024-08-24T16:44:19.182274Z",
     "shell.execute_reply": "2024-08-24T16:44:19.181251Z",
     "shell.execute_reply.started": "2024-08-24T16:44:00.728915Z"
    },
    "trusted": true
   },
   "outputs": [
    {
     "name": "stdout",
     "output_type": "stream",
     "text": [
      "                                            processed_text  \\\n",
      "1238099                                        [tire, day]   \n",
      "1026346         [aliholden, he, good, wiggl, around, morn]   \n",
      "171341   [thingsmummysaidrollercoast, multistorey, car,...   \n",
      "888304   [flyaarmi, appl, good, compani, ive, realli, n...   \n",
      "497900   [jillzarin, want, one, team, jill, vneck, tshi...   \n",
      "...                                                    ...   \n",
      "664855   [catastrophemi, banana, took, dump, offic, flo...   \n",
      "910453   [im, accumul, money, use, fanci, financ, app, ...   \n",
      "1313277                    [lilumi, onclick, onmouseov, c]   \n",
      "1279550  [nike620, yay, go, ps, catherin, thought, cake...   \n",
      "1079863  [wolstenclark, didnt, hear, ive, decid, hate, ...   \n",
      "\n",
      "                                              word_vectors  \n",
      "1238099  [[-0.0444675, 1.1359113, 0.43304563, 0.2982809...  \n",
      "1026346  [[0.01265863, -0.020178773, -0.02609134, 0.019...  \n",
      "171341   [[-0.0066084913, 0.010851514, 0.01241827, 0.00...  \n",
      "888304   [[-0.039124515, 0.029564286, 0.0066924016, -0....  \n",
      "497900   [[-0.0031762691, 0.023494253, 0.014337622, 0.0...  \n",
      "...                                                    ...  \n",
      "664855   [[-0.0047572907, -0.005187534, -0.008126352, 0...  \n",
      "910453   [[0.2821185, 0.4805385, 0.14211659, -0.0389607...  \n",
      "1313277  [[-0.005020958, 0.00980034, -0.0016755927, -0....  \n",
      "1279550  [[0.0012742741, -0.00604719, -0.009533989, 0.0...  \n",
      "1079863  [[0.02248668, -0.004468375, 0.00477048, 0.0302...  \n",
      "\n",
      "[199999 rows x 2 columns]\n"
     ]
    }
   ],
   "source": [
    "from gensim.models import Word2Vec\n",
    "\n",
    "sentences = new_df['processed_text'].tolist()\n",
    "\n",
    "model = Word2Vec(sentences, vector_size=100, window=5, min_count=1, sg=0) #CBOW model is used\n",
    "\n",
    "def get_word_vectors(tokens, model):\n",
    "    vectors = [model.wv[token] for token in tokens if token in model.wv]\n",
    "    return vectors\n",
    "\n",
    "# Apply Word2Vec to each processed text\n",
    "new_df['word_vectors'] = new_df['processed_text'].apply(lambda tokens: get_word_vectors(tokens, model))\n",
    "\n",
    "print(new_df[['processed_text', 'word_vectors']])\n"
   ]
  },
  {
   "cell_type": "code",
   "execution_count": null,
   "metadata": {
    "execution": {
     "iopub.execute_input": "2024-08-24T16:58:37.182505Z",
     "iopub.status.busy": "2024-08-24T16:58:37.182153Z",
     "iopub.status.idle": "2024-08-24T16:58:37.249484Z",
     "shell.execute_reply": "2024-08-24T16:58:37.248666Z",
     "shell.execute_reply.started": "2024-08-24T16:58:37.182474Z"
    },
    "trusted": true
   },
   "outputs": [
    {
     "data": {
      "text/plain": [
       "1238099    [[-0.0444675, 1.1359113, 0.43304563, 0.2982809...\n",
       "1026346    [[0.01265863, -0.020178773, -0.02609134, 0.019...\n",
       "171341     [[-0.0066084913, 0.010851514, 0.01241827, 0.00...\n",
       "888304     [[-0.039124515, 0.029564286, 0.0066924016, -0....\n",
       "497900     [[-0.0031762691, 0.023494253, 0.014337622, 0.0...\n",
       "                                 ...                        \n",
       "664855     [[-0.0047572907, -0.005187534, -0.008126352, 0...\n",
       "910453     [[0.2821185, 0.4805385, 0.14211659, -0.0389607...\n",
       "1313277    [[-0.005020958, 0.00980034, -0.0016755927, -0....\n",
       "1279550    [[0.0012742741, -0.00604719, -0.009533989, 0.0...\n",
       "1079863    [[0.02248668, -0.004468375, 0.00477048, 0.0302...\n",
       "Name: word_vectors, Length: 199999, dtype: object"
      ]
     },
     "execution_count": 68,
     "metadata": {},
     "output_type": "execute_result"
    }
   ],
   "source": [
    "new_df['word_vectors']"
   ]
  },
  {
   "cell_type": "code",
   "execution_count": null,
   "metadata": {
    "execution": {
     "iopub.execute_input": "2024-08-24T16:59:57.648494Z",
     "iopub.status.busy": "2024-08-24T16:59:57.647561Z",
     "iopub.status.idle": "2024-08-24T17:00:02.344234Z",
     "shell.execute_reply": "2024-08-24T17:00:02.343216Z",
     "shell.execute_reply.started": "2024-08-24T16:59:57.648443Z"
    },
    "trusted": true
   },
   "outputs": [],
   "source": [
    "import numpy as np\n",
    "\n",
    "def average_word_vectors(vectors, vector_size):\n",
    "    if len(vectors) == 0:\n",
    "        return np.zeros(vector_size)\n",
    "    return np.mean(vectors, axis=0)\n",
    "\n",
    "# Example: Get the vector size from the Word2Vec model\n",
    "vector_size = model.vector_size\n",
    "\n",
    "# Apply the function to get document vectors\n",
    "new_df['doc_vectors'] = new_df['word_vectors'].apply(lambda x: average_word_vectors(x, vector_size))\n"
   ]
  },
  {
   "cell_type": "code",
   "execution_count": null,
   "metadata": {
    "execution": {
     "iopub.execute_input": "2024-08-24T17:00:13.282667Z",
     "iopub.status.busy": "2024-08-24T17:00:13.281732Z",
     "iopub.status.idle": "2024-08-24T17:00:13.526877Z",
     "shell.execute_reply": "2024-08-24T17:00:13.525790Z",
     "shell.execute_reply.started": "2024-08-24T17:00:13.282624Z"
    },
    "trusted": true
   },
   "outputs": [],
   "source": [
    "from sklearn.model_selection import train_test_split\n",
    "\n",
    "# Prepare features and labels\n",
    "X = np.array(new_df['doc_vectors'].tolist())\n",
    "y = new_df['0']  # Assuming 'sentiment' is your label column\n",
    "\n",
    "# Split the data\n",
    "X_train, X_test, y_train, y_test = train_test_split(X, y, test_size=0.25, random_state=42)\n"
   ]
  },
  {
   "cell_type": "code",
   "execution_count": null,
   "metadata": {
    "execution": {
     "iopub.execute_input": "2024-08-24T17:00:16.282243Z",
     "iopub.status.busy": "2024-08-24T17:00:16.281549Z",
     "iopub.status.idle": "2024-08-24T17:00:19.544376Z",
     "shell.execute_reply": "2024-08-24T17:00:19.543231Z",
     "shell.execute_reply.started": "2024-08-24T17:00:16.282204Z"
    },
    "trusted": true
   },
   "outputs": [
    {
     "name": "stdout",
     "output_type": "stream",
     "text": [
      "Accuracy: 0.73692\n",
      "Classification Report:\n",
      "               precision    recall  f1-score   support\n",
      "\n",
      "           0       0.75      0.72      0.73     25107\n",
      "           4       0.73      0.76      0.74     24893\n",
      "\n",
      "    accuracy                           0.74     50000\n",
      "   macro avg       0.74      0.74      0.74     50000\n",
      "weighted avg       0.74      0.74      0.74     50000\n",
      "\n"
     ]
    },
    {
     "name": "stderr",
     "output_type": "stream",
     "text": [
      "/opt/conda/lib/python3.10/site-packages/sklearn/linear_model/_logistic.py:458: ConvergenceWarning: lbfgs failed to converge (status=1):\n",
      "STOP: TOTAL NO. of ITERATIONS REACHED LIMIT.\n",
      "\n",
      "Increase the number of iterations (max_iter) or scale the data as shown in:\n",
      "    https://scikit-learn.org/stable/modules/preprocessing.html\n",
      "Please also refer to the documentation for alternative solver options:\n",
      "    https://scikit-learn.org/stable/modules/linear_model.html#logistic-regression\n",
      "  n_iter_i = _check_optimize_result(\n"
     ]
    }
   ],
   "source": [
    "from sklearn.linear_model import LogisticRegression\n",
    "from sklearn.metrics import accuracy_score, classification_report\n",
    "\n",
    "# Initialize and train the model\n",
    "model = LogisticRegression()\n",
    "model.fit(X_train, y_train)\n",
    "\n",
    "# Make predictions\n",
    "y_pred = model.predict(X_test)\n",
    "\n",
    "# Evaluate the model\n",
    "print(\"Accuracy:\", accuracy_score(y_test, y_pred))\n",
    "print(\"Classification Report:\\n\", classification_report(y_test, y_pred))\n"
   ]
  },
  {
   "cell_type": "code",
   "execution_count": null,
   "metadata": {},
   "outputs": [],
   "source": []
  }
 ],
 "metadata": {
  "kaggle": {
   "accelerator": "gpu",
   "dataSources": [
    {
     "datasetId": 2477,
     "sourceId": 4140,
     "sourceType": "datasetVersion"
    }
   ],
   "dockerImageVersionId": 30762,
   "isGpuEnabled": true,
   "isInternetEnabled": true,
   "language": "python",
   "sourceType": "notebook"
  },
  "kernelspec": {
   "display_name": "base",
   "language": "python",
   "name": "python3"
  },
  "language_info": {
   "codemirror_mode": {
    "name": "ipython",
    "version": 3
   },
   "file_extension": ".py",
   "mimetype": "text/x-python",
   "name": "python",
   "nbconvert_exporter": "python",
   "pygments_lexer": "ipython3",
   "version": "3.11.4"
  }
 },
 "nbformat": 4,
 "nbformat_minor": 4
}
